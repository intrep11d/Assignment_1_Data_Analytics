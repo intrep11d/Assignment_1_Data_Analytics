{
 "cells": [
  {
   "cell_type": "code",
   "execution_count": 4,
   "metadata": {},
   "outputs": [
    {
     "name": "stdout",
     "output_type": "stream",
     "text": [
      "Dataset generated and saved to 'patients.txt'.\n"
     ]
    }
   ],
   "source": [
    "import pandas as pd\n",
    "import numpy as np\n",
    "\n",
    "# Set random seed for reproducibility\n",
    "np.random.seed(42)\n",
    "\n",
    "# Generate data for 250 patients\n",
    "num_patients = 400\n",
    "\n",
    "# Generate patient IDs\n",
    "patient_ids = np.arange(num_patients)\n",
    "\n",
    "# Generate ages (randomly between 18 and 80)\n",
    "ages = np.random.randint(18, 81, size=num_patients)\n",
    "\n",
    "# Generate duration of symptoms (randomly between 1 and 20 months)\n",
    "durations = np.random.randint(1, 21, size=num_patients)\n",
    "\n",
    "# Generate pain scores (randomly between 0 and 9)\n",
    "pain_scores = np.random.randint(0, 10, size=num_patients)\n",
    "\n",
    "# Generate urgency scores (randomly between 0 and 9)\n",
    "urgency_scores = np.random.randint(0, 10, size=num_patients)\n",
    "\n",
    "# Generate nocturnal frequency (randomly between 0 and 5)\n",
    "nocturnal_frequency = np.random.randint(0, 6, size=num_patients)\n",
    "\n",
    "# Randomly assign treatment status (1 for treated, 0 for control)\n",
    "# Let's assume 50% are treated\n",
    "treatment_status = np.random.choice([0, 1], size=num_patients, p=[0.5, 0.5])\n",
    "\n",
    "# Create a DataFrame\n",
    "data = pd.DataFrame({\n",
    "    'patient_id': patient_ids,\n",
    "    'age': ages,\n",
    "    'duration': durations,\n",
    "    'pain': pain_scores,\n",
    "    'urgency': urgency_scores,\n",
    "    'nocturnal_frequency': nocturnal_frequency,\n",
    "    'treatment': treatment_status\n",
    "})\n",
    "\n",
    "# Save to a csv file\n",
    "data.to_csv('patients.csv', index=False)\n",
    "\n",
    "print(\"Dataset generated and saved to 'patients.txt'.\")"
   ]
  }
 ],
 "metadata": {
  "kernelspec": {
   "display_name": ".venv",
   "language": "python",
   "name": "python3"
  },
  "language_info": {
   "codemirror_mode": {
    "name": "ipython",
    "version": 3
   },
   "file_extension": ".py",
   "mimetype": "text/x-python",
   "name": "python",
   "nbconvert_exporter": "python",
   "pygments_lexer": "ipython3",
   "version": "3.12.6"
  }
 },
 "nbformat": 4,
 "nbformat_minor": 2
}
